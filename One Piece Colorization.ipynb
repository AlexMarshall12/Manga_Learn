{
 "cells": [
  {
   "cell_type": "markdown",
   "metadata": {},
   "source": [
    "Manga (漫画 Manga) are comics created in Japan, or by creators in the Japanese language, conforming to a style developed in Japan in the late 19th century.[1] They have a long and complex pre-history in earlier Japanese art."
   ]
  },
  {
   "cell_type": "markdown",
   "metadata": {},
   "source": [
    "Manga stories are typically printed in black-and-white,[9] although some full-color manga exist (e.g., Colorful). Colorization of Manga is usually done after it is released in black and white format. This is often avoided because colorization is time-consuming.\n",
    "\n",
    "To this point, the goal of this project is to aleviate this time consuming pain of colorization by using machine learning to train a model which will thereby be able to perform automatic colorization. It will train on colorized examples to identify shapes and objects in the manga image which are a consistent color. Then, when fed a black and white manga from the same artist and series, it should be able to guess the fill color by relating the properties of the shape to the training set. The same artist and series is chosen to simlify this procedure. Generalization may be part of expansion of this project if it goes well :). "
   ]
  },
  {
   "cell_type": "markdown",
   "metadata": {},
   "source": [
    "Now, what manga will we use? What a silly question! One Piece of Course! The inspiring story of a boy who eats the Gomu Gomu no mi (rubber fruit) and is going to be the Pirate King one day! If you haven't read this epic tale, not only will you get a fun glimpse of it while reading through this notebook, but I highly suggest you read the rest.\n",
    "\n",
    "![title](img/OPtitle.jpg)\n",
    "\n",
    "The advantages of choosing one piece are as follows: \n",
    "\n",
    "1. First and most importantly, its awesome. This will make it a blast to \"examine the data\" so to speak. \n",
    "2. Second, there are 800 mangas chapters out so far! At an estimated 6000 polygons per page and 20 pages per chapter, this amounts to 96,000,000 example polyons! More than enough data to train on, and we will most likely only choose a small subset of this to train on, but we can always get more. All one piece chapters are available in many different places online\n",
    "3. Luffy is only 1/2 of the way through the grand line, so there is tons more manga to come. That means, that unlike complete series such as naruto which have been colorized in full already, utility may come out of the output model from this project for years to come!"
   ]
  },
  {
   "cell_type": "markdown",
   "metadata": {},
   "source": [
    "Prior art. \n",
    "\n",
    "There have been a number of previous attempts to do this, divided into 2 categories: \n",
    "\n",
    "1. Manga is often auto-colored via this technique. A section is manually colored and a \"bucket fill algorithm is used\n",
    "2. Machine learning auto-colorization techniques are often pixel based. They work on real life jpgs. \n",
    "\n",
    "This is an attempt to combine the two approaches. "
   ]
  },
  {
   "cell_type": "markdown",
   "metadata": {},
   "source": [
    "A critical juncture at this point is to note that this project processes and uses SVG images rather than the jpg format in which most manga is distributed on the web. As I began this project, I ran into the age old adage: data cleaning is the 80% of the work. Getting these polygons out of the bitmaps would require the use of openCV and a custom graph cut algorithm to seperate these polygons from their brethen. Largely because this is a pain in the ass, I began to look for other options. 1 that was staring me in the face, was the SVG format. In this format, each polygon is described as a path. If only there was an easy way to covert bitmaps into SVGs.... but wait! Vector Magic to the rescue. As most software developers know, why build a tool when you can use one. \n",
    "\n",
    "And so, the first step for preprocessing this data consists of batch-converting the jpg manga chapters into svg format via Vector Magic. "
   ]
  },
  {
   "cell_type": "markdown",
   "metadata": {},
   "source": [
    "Now, once this is done, we must select what features we are going to learn on. First, lets parse a sample svg and see what a standard path looks like.\n"
   ]
  },
  {
   "cell_type": "code",
   "execution_count": 5,
   "metadata": {
    "collapsed": false
   },
   "outputs": [
    {
     "name": "stdout",
     "output_type": "stream",
     "text": [
      " M 0.00 0.00 L 0.70 0.00 C 2.19 2.06 3.75 4.08 5.25 6.13 L 4.71 7.45 C 3.02 6.02 1.45 4.47 0.00 2.81 L 0.00 0.00 Z\n"
     ]
    }
   ],
   "source": [
    "from xml.dom import minidom\n",
    "with open('sabody.svg','rb') as svg_file:\n",
    "    doc = minidom.parse(svg_file)  # parseString also exists\n",
    "    paths = [path.getAttribute('d') for path\n",
    "                    in doc.getElementsByTagName('path')]\n",
    "    doc.unlink()\n",
    "    \n",
    "print paths[0]   #look at the first path\n",
    "    "
   ]
  },
  {
   "cell_type": "markdown",
   "metadata": {
    "collapsed": true
   },
   "source": [
    "Each path starts with an M (Move to), and consists of series of lines (L) or curves (C), finishing up with a Z, closing the path and returning it to its original starting point. Luckily the SVGs created with Vector Magic don't include any transformations or other SVG elements. What a tool!"
   ]
  },
  {
   "cell_type": "markdown",
   "metadata": {},
   "source": [
    "Now, we want to format this data into a list of features. What features are we gonna pick?\n",
    "\n",
    "To hazard the first guess, Im gonna say: \n",
    "\n",
    "1. Polygon length\n",
    "2. Polygon area\n",
    "3. Position in list\n",
    "4. Position in chart\n",
    "5. number of elements - complexity of the shape\n",
    "6. distribution of lines vs Curves - how curvy is it?\n",
    "7. Intensity\n",
    "\n",
    "Thus our training data will consist of 7 features. As for the labels, for now, because the svg uses hex notation, we will use RGB values. Hex to RGB is an easy conversion and the RGB values will give some level of visual continuity between different colors - ie: (244,34,22) is close in appearance to (245,35,23). One cool aspect of this project is that the accuracy of the models predictions can be verified visually as well as by the strict numeric error/cost. Thus our labels data will consist of 3 seperate variables and we must look for models which work on multivariate problems. Finally, it is important to note that other colorization machine learning projects such as https://www.lri.fr/~gcharpia/colorization_chapter.pdf have used other color spaces like CIE-Lab because the visual continuity is closer to human color perception. Those are probably better options and may guide the eventual direction of this project. This is a first draft, remember. "
   ]
  },
  {
   "cell_type": "markdown",
   "metadata": {},
   "source": [
    "To that point, lets start with the simplest possible model - Linear Regression. We will set up the pipeline so to speak - first getting the data in a form that the model can fit and predict as well as parsing out the results so that they can be verified and evaluated. Then using those results we will switch out a few different model options into our pipeline. \n",
    "\n",
    "First of all, we will parse out the svg's and compute our chosen features on each path, then save each path as a seperate line in a train_features.csv file. At the same time, we will parse out the fill value for each path and save it off into a different file - train_labels.csv. At the end of this process, our files should have the same number of lines - one for each path. Finally, onto some code!\n"
   ]
  },
  {
   "cell_type": "code",
   "execution_count": 2,
   "metadata": {
    "collapsed": false
   },
   "outputs": [
    {
     "ename": "ImportError",
     "evalue": "No module named svg.path",
     "output_type": "error",
     "traceback": [
      "\u001b[0;31m---------------------------------------------------------------------------\u001b[0m",
      "\u001b[0;31mImportError\u001b[0m                               Traceback (most recent call last)",
      "\u001b[0;32m<ipython-input-2-23de5922dce8>\u001b[0m in \u001b[0;36m<module>\u001b[0;34m()\u001b[0m\n\u001b[1;32m      4\u001b[0m \u001b[0;32mfrom\u001b[0m \u001b[0mmatplotlib\u001b[0m\u001b[0;34m.\u001b[0m\u001b[0mcolors\u001b[0m \u001b[0;32mimport\u001b[0m \u001b[0mhex2color\u001b[0m\u001b[0;34m\u001b[0m\u001b[0m\n\u001b[1;32m      5\u001b[0m \u001b[0;32mimport\u001b[0m \u001b[0mcsv\u001b[0m\u001b[0;34m\u001b[0m\u001b[0m\n\u001b[0;32m----> 6\u001b[0;31m \u001b[0;32mfrom\u001b[0m \u001b[0msvg\u001b[0m\u001b[0;34m.\u001b[0m\u001b[0mpath\u001b[0m \u001b[0;32mimport\u001b[0m \u001b[0mparse_path\u001b[0m\u001b[0;34m\u001b[0m\u001b[0m\n\u001b[0m\u001b[1;32m      7\u001b[0m \u001b[0;34m\u001b[0m\u001b[0m\n\u001b[1;32m      8\u001b[0m \u001b[0;34m\u001b[0m\u001b[0m\n",
      "\u001b[0;31mImportError\u001b[0m: No module named svg.path"
     ]
    }
   ],
   "source": [
    "from xml.dom import minidom\n",
    "import numpy as np\n",
    "import os\n",
    "from matplotlib.colors import hex2color\n",
    "import csv\n",
    "from svg.path import parse_path\n",
    "\n",
    "\n",
    "# Building Labels file and Paths array for use below\n",
    "paths = []\n",
    "with open('train_labels.txt','wb') as res_file:\n",
    "    for i in os.listdir('svgs'):\n",
    "        directory = os.getcwd()\n",
    "        fullpath = os.path.join(directory,'svgs',i)\n",
    "        print fullpath\n",
    "        with open(fullpath,'rb') as svg_file:\n",
    "            doc = minidom.parse(svg_file)  # parseString also exists\n",
    "            for path in doc.getElementsByTagName('path'):\n",
    "                fill = path.getAttribute('fill')\n",
    "                res_file.write(fill+'\\n')\n",
    "                d = path.getAttribute('d')\n",
    "                paths.append(d)\n",
    "            doc.unlink()\n",
    "\n",
    "#print len(paths)\n",
    "\n",
    "CURVE_DIVS = 50.0000000     #we could make this smaller and reduce its load approximating points along each polygon. Or larger to improve the accuracy. In this case I made it fairly small as I think approximation inaccuracies will pale in comparison to the ones introduced elsewhere\n",
    "\n",
    "#Building Features file. Uses Paths array from above to compute values\n",
    "with open('train_features.txt','wb') as f:\n",
    "    writer = csv.writer(f)\n",
    "    for i,path in enumerate(paths):\n",
    "        P = parse_path(path)\n",
    "        length = P.length()\n",
    "        corners = []\n",
    "        for item in xrange(int(CURVE_DIVS)):\n",
    "            dist = item/CURVE_DIVS\n",
    "            print dist\n",
    "            each_point = P.point(dist)\n",
    "            x = each_point.real\n",
    "            y = each_point.imag\n",
    "            corners.append((x,y))\n",
    "        n = len(corners) # of corners\n",
    "        area = 0.0\n",
    "        print corners\n",
    "        for i in range(n):\n",
    "            j = (i + 1) % n\n",
    "            area += corners[i][0] * corners[j][1]\n",
    "            area -= corners[j][0] * corners[i][1]\n",
    "        area = abs(area) / 2.0\n",
    "        index = i\n",
    "        complexity = len(path)\n",
    "        lines = path.count('L')\n",
    "        curves = path.count('C')\n",
    "        rgb = hex2color(\"#ff0000\")\n",
    "        intensity =  0.2126 * rgb[0] + 0.7152 * rgb[1] + 0.0722 * rgb[2]\n",
    "        writer.writerow([area,length,index,complexity,lines,curves,intensity])\n"
   ]
  },
  {
   "cell_type": "code",
   "execution_count": 2,
   "metadata": {
    "collapsed": false
   },
   "outputs": [
    {
     "data": {
      "text/plain": [
       "'/usr/bin/python'"
      ]
     },
     "execution_count": 2,
     "metadata": {},
     "output_type": "execute_result"
    }
   ],
   "source": [
    "import sys\n",
    "sys.executable"
   ]
  },
  {
   "cell_type": "markdown",
   "metadata": {
    "collapsed": true
   },
   "source": [
    "from IPython.display import SVG, display\n",
    "display(SVG(filename='/img/best_guess.svg'))"
   ]
  },
  {
   "cell_type": "markdown",
   "metadata": {},
   "source": [
    "So this isn't great, but its not horrible either. You can see hints of actual orange in Nami's hair and those line on Warpols jacket are actually purple! However, overall its a lot greyer than it should be. This tells us that the regression is undergoing the classic case of ____. Between color extremes, a safe bet for the model to predict is a middle value - aka grey. So is there some way to overcome this? \n",
    "\n",
    "As a good first step, lets look at what kind of color profile we're dealing with here. "
   ]
  },
  {
   "cell_type": "code",
   "execution_count": 25,
   "metadata": {
    "collapsed": false
   },
   "outputs": [],
   "source": [
    "import seaborn as sns\n",
    "import pandas as pd\n",
    "\n",
    "colors = pd.read_csv('labels/train_labels.txt',header=0,names=['r','g','b'])\n",
    "\n",
    "sns.distplot(colors['b'], kde=False, rug=True);\n",
    "\n",
    "sns.plt.show()"
   ]
  },
  {
   "cell_type": "code",
   "execution_count": 1,
   "metadata": {
    "collapsed": false
   },
   "outputs": [
    {
     "name": "stderr",
     "output_type": "stream",
     "text": [
      "/Users/alex/python/manga_learn/venv/lib/python2.7/site-packages/matplotlib/font_manager.py:273: UserWarning: Matplotlib is building the font cache using fc-list. This may take a moment.\n",
      "  warnings.warn('Matplotlib is building the font cache using fc-list. This may take a moment.')\n",
      "/Users/alex/python/manga_learn/venv/lib/python2.7/site-packages/matplotlib/tight_layout.py:222: UserWarning: tight_layout : falling back to Agg renderer\n",
      "  warnings.warn(\"tight_layout : falling back to Agg renderer\")\n"
     ]
    }
   ],
   "source": [
    "\n",
    "import seaborn as sns\n",
    "\n",
    "# Load one of the data sets that come with seaborn\n",
    "tips = sns.load_dataset(\"tips\")\n",
    "\n",
    "sns.jointplot(\"total_bill\", \"tip\", tips, kind='reg');"
   ]
  },
  {
   "cell_type": "code",
   "execution_count": 3,
   "metadata": {
    "collapsed": false
   },
   "outputs": [
    {
     "data": {
      "image/png": "[encoded data removed]",
      "text/plain": [
       "<matplotlib.figure.Figure at 0x10c585ad0>"
      ]
     },
     "metadata": {},
     "output_type": "display_data"
    }
   ],
   "source": [
    "%matplotlib inline\n",
    "import seaborn as sns\n",
    "\n",
    "# Load one of the data sets that come with seaborn\n",
    "tips = sns.load_dataset(\"tips\")\n",
    "\n",
    "sns.jointplot(\"total_bill\", \"tip\", tips, kind='reg');\n"
   ]
  },
  {
   "cell_type": "code",
   "execution_count": null,
   "metadata": {
    "collapsed": true
   },
   "outputs": [],
   "source": []
  }
 ],
 "metadata": {
  "kernelspec": {
   "display_name": "Python 2",
   "language": "python",
   "name": "python2"
  },
  "language_info": {
   "codemirror_mode": {
    "name": "ipython",
    "version": 2
   },
   "file_extension": ".py",
   "mimetype": "text/x-python",
   "name": "python",
   "nbconvert_exporter": "python",
   "pygments_lexer": "ipython2",
   "version": "2.7.10"
  }
 },
 "nbformat": 4,
 "nbformat_minor": 0
}
